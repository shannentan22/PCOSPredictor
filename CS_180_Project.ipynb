{
  "nbformat": 4,
  "nbformat_minor": 0,
  "metadata": {
    "colab": {
      "provenance": [],
      "toc_visible": true
    },
    "kernelspec": {
      "name": "python3",
      "display_name": "Python 3"
    },
    "language_info": {
      "name": "python"
    }
  },
  "cells": [
    {
      "cell_type": "markdown",
      "source": [
        "# CS 180 Project - PCOS Dataset"
      ],
      "metadata": {
        "id": "W_CRFhcowBN9"
      }
    },
    {
      "cell_type": "markdown",
      "source": [
        "## Importing the Dataset"
      ],
      "metadata": {
        "id": "XOFNJQi1xXNN"
      }
    },
    {
      "cell_type": "markdown",
      "source": [
        "To start, we will need to import the csv from a github repo and load the csv file into a pandas dataframe object."
      ],
      "metadata": {
        "id": "CfL0XopejT8c"
      }
    },
    {
      "cell_type": "code",
      "execution_count": null,
      "metadata": {
        "id": "IP4Ob689r6V1",
        "colab": {
          "base_uri": "https://localhost:8080/"
        },
        "outputId": "33db40da-442f-4d67-bdfb-2ad52c61eb4c"
      },
      "outputs": [
        {
          "output_type": "execute_result",
          "data": {
            "text/plain": [
              "(541, 44)"
            ]
          },
          "metadata": {},
          "execution_count": 1
        }
      ],
      "source": [
        "import pandas as pd\n",
        "url = 'https://raw.githubusercontent.com/shannentan22/PCOSPredictor/main/PCOS_data.csv'\n",
        "df = pd.read_csv(url)\n",
        "# df.head(10)\n",
        "df.shape"
      ]
    },
    {
      "cell_type": "code",
      "source": [
        "df.columns"
      ],
      "metadata": {
        "colab": {
          "base_uri": "https://localhost:8080/"
        },
        "id": "r1ch06_Whvcm",
        "outputId": "642184c1-caf9-4443-ab71-583fd55b8ceb"
      },
      "execution_count": null,
      "outputs": [
        {
          "output_type": "execute_result",
          "data": {
            "text/plain": [
              "Index(['Sl. No', 'Patient File No.', 'PCOS (Y/N)', ' Age (yrs)', 'Weight (Kg)',\n",
              "       'Height(Cm) ', 'BMI', 'Blood Group', 'Pulse rate(bpm) ',\n",
              "       'RR (breaths/min)', 'Hb(g/dl)', 'Cycle(R/I)', 'Cycle length(days)',\n",
              "       'Marraige Status (Yrs)', 'Pregnant(Y/N)', 'No. of abortions',\n",
              "       '  I   beta-HCG(mIU/mL)', 'II    beta-HCG(mIU/mL)', 'FSH(mIU/mL)',\n",
              "       'LH(mIU/mL)', 'FSH/LH', 'Hip(inch)', 'Waist(inch)', 'Waist:Hip Ratio',\n",
              "       'TSH (mIU/L)', 'AMH(ng/mL)', 'PRL(ng/mL)', 'Vit D3 (ng/mL)',\n",
              "       'PRG(ng/mL)', 'RBS(mg/dl)', 'Weight gain(Y/N)', 'hair growth(Y/N)',\n",
              "       'Skin darkening (Y/N)', 'Hair loss(Y/N)', 'Pimples(Y/N)',\n",
              "       'Fast food (Y/N)', 'Reg.Exercise(Y/N)', 'BP _Systolic (mmHg)',\n",
              "       'BP _Diastolic (mmHg)', 'Follicle No. (L)', 'Follicle No. (R)',\n",
              "       'Avg. F size (L) (mm)', 'Avg. F size (R) (mm)', 'Endometrium (mm)'],\n",
              "      dtype='object')"
            ]
          },
          "metadata": {},
          "execution_count": 3
        }
      ]
    },
    {
      "cell_type": "markdown",
      "source": [
        "## Data Sources"
      ],
      "metadata": {
        "id": "qbLtnonSUPz9"
      }
    },
    {
      "cell_type": "markdown",
      "source": [
        "For this project, we used a dataset uploaded by Aya Moheddine on Kaggle. This dataset of patients that tested if they have PCOS or not is composed of 44 features such as the patient's BMI, Pulse Rate,if they eat fast food or if they are pregnant."
      ],
      "metadata": {
        "id": "Z-TmfGeqaeaF"
      }
    },
    {
      "cell_type": "markdown",
      "source": [
        "## Data Aspects"
      ],
      "metadata": {
        "id": "tjGAeL-7Ub_J"
      }
    },
    {
      "cell_type": "markdown",
      "source": [
        "### Data types of the columns"
      ],
      "metadata": {
        "id": "9CD1cvTSaxkD"
      }
    },
    {
      "cell_type": "markdown",
      "source": [
        "Note that for this dataset, we are only dealing with the Integer, Float, and obejct datatypes. It is important to note the \"object dataype\" needs to converted into something useful for our model when doing the preprocessing."
      ],
      "metadata": {
        "id": "LhFrS-PXj7Cz"
      }
    },
    {
      "cell_type": "code",
      "source": [
        "df.dtypes"
      ],
      "metadata": {
        "colab": {
          "base_uri": "https://localhost:8080/"
        },
        "id": "bctrVVIxpmcJ",
        "outputId": "251758af-a3c8-48bf-cd07-fbd7e7e23a65"
      },
      "execution_count": null,
      "outputs": [
        {
          "output_type": "execute_result",
          "data": {
            "text/plain": [
              "Sl. No                      int64\n",
              "Patient File No.            int64\n",
              "PCOS (Y/N)                  int64\n",
              " Age (yrs)                  int64\n",
              "Weight (Kg)               float64\n",
              "Height(Cm)                float64\n",
              "BMI                       float64\n",
              "Blood Group                 int64\n",
              "Pulse rate(bpm)             int64\n",
              "RR (breaths/min)            int64\n",
              "Hb(g/dl)                  float64\n",
              "Cycle(R/I)                  int64\n",
              "Cycle length(days)          int64\n",
              "Marraige Status (Yrs)     float64\n",
              "Pregnant(Y/N)               int64\n",
              "No. of abortions            int64\n",
              "  I   beta-HCG(mIU/mL)    float64\n",
              "II    beta-HCG(mIU/mL)     object\n",
              "FSH(mIU/mL)               float64\n",
              "LH(mIU/mL)                float64\n",
              "FSH/LH                    float64\n",
              "Hip(inch)                   int64\n",
              "Waist(inch)                 int64\n",
              "Waist:Hip Ratio           float64\n",
              "TSH (mIU/L)               float64\n",
              "AMH(ng/mL)                 object\n",
              "PRL(ng/mL)                float64\n",
              "Vit D3 (ng/mL)            float64\n",
              "PRG(ng/mL)                float64\n",
              "RBS(mg/dl)                float64\n",
              "Weight gain(Y/N)            int64\n",
              "hair growth(Y/N)            int64\n",
              "Skin darkening (Y/N)        int64\n",
              "Hair loss(Y/N)              int64\n",
              "Pimples(Y/N)                int64\n",
              "Fast food (Y/N)           float64\n",
              "Reg.Exercise(Y/N)           int64\n",
              "BP _Systolic (mmHg)         int64\n",
              "BP _Diastolic (mmHg)        int64\n",
              "Follicle No. (L)            int64\n",
              "Follicle No. (R)            int64\n",
              "Avg. F size (L) (mm)      float64\n",
              "Avg. F size (R) (mm)      float64\n",
              "Endometrium (mm)          float64\n",
              "dtype: object"
            ]
          },
          "metadata": {},
          "execution_count": 4
        }
      ]
    },
    {
      "cell_type": "markdown",
      "source": [
        "Now to give a brief intro to our dataset, let us use the describe method in order to give us some descriptive statistics to summarize our dataset"
      ],
      "metadata": {
        "id": "SIC9cTQWlSMz"
      }
    },
    {
      "cell_type": "code",
      "source": [
        "df.describe()"
      ],
      "metadata": {
        "colab": {
          "base_uri": "https://localhost:8080/",
          "height": 428
        },
        "id": "KfrzF97gqDw_",
        "outputId": "54e7d005-1b6a-4f85-dd24-4a9767b0349b"
      },
      "execution_count": null,
      "outputs": [
        {
          "output_type": "execute_result",
          "data": {
            "text/plain": [
              "           Sl. No  Patient File No.  PCOS (Y/N)   Age (yrs)  Weight (Kg)  \\\n",
              "count  541.000000        541.000000  541.000000  541.000000   541.000000   \n",
              "mean   271.000000        271.000000    0.327172   31.430684    59.637153   \n",
              "std    156.317519        156.317519    0.469615    5.411006    11.028287   \n",
              "min      1.000000          1.000000    0.000000   20.000000    31.000000   \n",
              "25%    136.000000        136.000000    0.000000   28.000000    52.000000   \n",
              "50%    271.000000        271.000000    0.000000   31.000000    59.000000   \n",
              "75%    406.000000        406.000000    1.000000   35.000000    65.000000   \n",
              "max    541.000000        541.000000    1.000000   48.000000   108.000000   \n",
              "\n",
              "       Height(Cm)          BMI  Blood Group  Pulse rate(bpm)   \\\n",
              "count   541.000000  541.000000   541.000000        541.000000   \n",
              "mean    156.484835   24.307579    13.802218         73.247689   \n",
              "std       6.033545    4.055129     1.840812          4.430285   \n",
              "min     137.000000   12.400000    11.000000         13.000000   \n",
              "25%     152.000000   21.600000    13.000000         72.000000   \n",
              "50%     156.000000   24.200000    14.000000         72.000000   \n",
              "75%     160.000000   26.600000    15.000000         74.000000   \n",
              "max     180.000000   38.900000    18.000000         82.000000   \n",
              "\n",
              "       RR (breaths/min)  ...  Pimples(Y/N)  Fast food (Y/N)  \\\n",
              "count        541.000000  ...    541.000000       540.000000   \n",
              "mean          19.243993  ...      0.489834         0.514815   \n",
              "std            1.688629  ...      0.500359         0.500244   \n",
              "min           16.000000  ...      0.000000         0.000000   \n",
              "25%           18.000000  ...      0.000000         0.000000   \n",
              "50%           18.000000  ...      0.000000         1.000000   \n",
              "75%           20.000000  ...      1.000000         1.000000   \n",
              "max           28.000000  ...      1.000000         1.000000   \n",
              "\n",
              "       Reg.Exercise(Y/N)  BP _Systolic (mmHg)  BP _Diastolic (mmHg)  \\\n",
              "count         541.000000           541.000000            541.000000   \n",
              "mean            0.247689           114.661738             76.927911   \n",
              "std             0.432070             7.384556              5.574112   \n",
              "min             0.000000            12.000000              8.000000   \n",
              "25%             0.000000           110.000000             70.000000   \n",
              "50%             0.000000           110.000000             80.000000   \n",
              "75%             0.000000           120.000000             80.000000   \n",
              "max             1.000000           140.000000            100.000000   \n",
              "\n",
              "       Follicle No. (L)  Follicle No. (R)  Avg. F size (L) (mm)  \\\n",
              "count        541.000000        541.000000            541.000000   \n",
              "mean           6.129390          6.641405             15.018115   \n",
              "std            4.229294          4.436889              3.566839   \n",
              "min            0.000000          0.000000              0.000000   \n",
              "25%            3.000000          3.000000             13.000000   \n",
              "50%            5.000000          6.000000             15.000000   \n",
              "75%            9.000000         10.000000             18.000000   \n",
              "max           22.000000         20.000000             24.000000   \n",
              "\n",
              "       Avg. F size (R) (mm)  Endometrium (mm)  \n",
              "count            541.000000        541.000000  \n",
              "mean              15.451701          8.475915  \n",
              "std                3.318848          2.165381  \n",
              "min                0.000000          0.000000  \n",
              "25%               13.000000          7.000000  \n",
              "50%               16.000000          8.500000  \n",
              "75%               18.000000          9.800000  \n",
              "max               24.000000         18.000000  \n",
              "\n",
              "[8 rows x 42 columns]"
            ],
            "text/html": [
              "\n",
              "  <div id=\"df-5ddbfa37-adde-4f61-81b0-c33ab24068d8\">\n",
              "    <div class=\"colab-df-container\">\n",
              "      <div>\n",
              "<style scoped>\n",
              "    .dataframe tbody tr th:only-of-type {\n",
              "        vertical-align: middle;\n",
              "    }\n",
              "\n",
              "    .dataframe tbody tr th {\n",
              "        vertical-align: top;\n",
              "    }\n",
              "\n",
              "    .dataframe thead th {\n",
              "        text-align: right;\n",
              "    }\n",
              "</style>\n",
              "<table border=\"1\" class=\"dataframe\">\n",
              "  <thead>\n",
              "    <tr style=\"text-align: right;\">\n",
              "      <th></th>\n",
              "      <th>Sl. No</th>\n",
              "      <th>Patient File No.</th>\n",
              "      <th>PCOS (Y/N)</th>\n",
              "      <th>Age (yrs)</th>\n",
              "      <th>Weight (Kg)</th>\n",
              "      <th>Height(Cm)</th>\n",
              "      <th>BMI</th>\n",
              "      <th>Blood Group</th>\n",
              "      <th>Pulse rate(bpm)</th>\n",
              "      <th>RR (breaths/min)</th>\n",
              "      <th>...</th>\n",
              "      <th>Pimples(Y/N)</th>\n",
              "      <th>Fast food (Y/N)</th>\n",
              "      <th>Reg.Exercise(Y/N)</th>\n",
              "      <th>BP _Systolic (mmHg)</th>\n",
              "      <th>BP _Diastolic (mmHg)</th>\n",
              "      <th>Follicle No. (L)</th>\n",
              "      <th>Follicle No. (R)</th>\n",
              "      <th>Avg. F size (L) (mm)</th>\n",
              "      <th>Avg. F size (R) (mm)</th>\n",
              "      <th>Endometrium (mm)</th>\n",
              "    </tr>\n",
              "  </thead>\n",
              "  <tbody>\n",
              "    <tr>\n",
              "      <th>count</th>\n",
              "      <td>541.000000</td>\n",
              "      <td>541.000000</td>\n",
              "      <td>541.000000</td>\n",
              "      <td>541.000000</td>\n",
              "      <td>541.000000</td>\n",
              "      <td>541.000000</td>\n",
              "      <td>541.000000</td>\n",
              "      <td>541.000000</td>\n",
              "      <td>541.000000</td>\n",
              "      <td>541.000000</td>\n",
              "      <td>...</td>\n",
              "      <td>541.000000</td>\n",
              "      <td>540.000000</td>\n",
              "      <td>541.000000</td>\n",
              "      <td>541.000000</td>\n",
              "      <td>541.000000</td>\n",
              "      <td>541.000000</td>\n",
              "      <td>541.000000</td>\n",
              "      <td>541.000000</td>\n",
              "      <td>541.000000</td>\n",
              "      <td>541.000000</td>\n",
              "    </tr>\n",
              "    <tr>\n",
              "      <th>mean</th>\n",
              "      <td>271.000000</td>\n",
              "      <td>271.000000</td>\n",
              "      <td>0.327172</td>\n",
              "      <td>31.430684</td>\n",
              "      <td>59.637153</td>\n",
              "      <td>156.484835</td>\n",
              "      <td>24.307579</td>\n",
              "      <td>13.802218</td>\n",
              "      <td>73.247689</td>\n",
              "      <td>19.243993</td>\n",
              "      <td>...</td>\n",
              "      <td>0.489834</td>\n",
              "      <td>0.514815</td>\n",
              "      <td>0.247689</td>\n",
              "      <td>114.661738</td>\n",
              "      <td>76.927911</td>\n",
              "      <td>6.129390</td>\n",
              "      <td>6.641405</td>\n",
              "      <td>15.018115</td>\n",
              "      <td>15.451701</td>\n",
              "      <td>8.475915</td>\n",
              "    </tr>\n",
              "    <tr>\n",
              "      <th>std</th>\n",
              "      <td>156.317519</td>\n",
              "      <td>156.317519</td>\n",
              "      <td>0.469615</td>\n",
              "      <td>5.411006</td>\n",
              "      <td>11.028287</td>\n",
              "      <td>6.033545</td>\n",
              "      <td>4.055129</td>\n",
              "      <td>1.840812</td>\n",
              "      <td>4.430285</td>\n",
              "      <td>1.688629</td>\n",
              "      <td>...</td>\n",
              "      <td>0.500359</td>\n",
              "      <td>0.500244</td>\n",
              "      <td>0.432070</td>\n",
              "      <td>7.384556</td>\n",
              "      <td>5.574112</td>\n",
              "      <td>4.229294</td>\n",
              "      <td>4.436889</td>\n",
              "      <td>3.566839</td>\n",
              "      <td>3.318848</td>\n",
              "      <td>2.165381</td>\n",
              "    </tr>\n",
              "    <tr>\n",
              "      <th>min</th>\n",
              "      <td>1.000000</td>\n",
              "      <td>1.000000</td>\n",
              "      <td>0.000000</td>\n",
              "      <td>20.000000</td>\n",
              "      <td>31.000000</td>\n",
              "      <td>137.000000</td>\n",
              "      <td>12.400000</td>\n",
              "      <td>11.000000</td>\n",
              "      <td>13.000000</td>\n",
              "      <td>16.000000</td>\n",
              "      <td>...</td>\n",
              "      <td>0.000000</td>\n",
              "      <td>0.000000</td>\n",
              "      <td>0.000000</td>\n",
              "      <td>12.000000</td>\n",
              "      <td>8.000000</td>\n",
              "      <td>0.000000</td>\n",
              "      <td>0.000000</td>\n",
              "      <td>0.000000</td>\n",
              "      <td>0.000000</td>\n",
              "      <td>0.000000</td>\n",
              "    </tr>\n",
              "    <tr>\n",
              "      <th>25%</th>\n",
              "      <td>136.000000</td>\n",
              "      <td>136.000000</td>\n",
              "      <td>0.000000</td>\n",
              "      <td>28.000000</td>\n",
              "      <td>52.000000</td>\n",
              "      <td>152.000000</td>\n",
              "      <td>21.600000</td>\n",
              "      <td>13.000000</td>\n",
              "      <td>72.000000</td>\n",
              "      <td>18.000000</td>\n",
              "      <td>...</td>\n",
              "      <td>0.000000</td>\n",
              "      <td>0.000000</td>\n",
              "      <td>0.000000</td>\n",
              "      <td>110.000000</td>\n",
              "      <td>70.000000</td>\n",
              "      <td>3.000000</td>\n",
              "      <td>3.000000</td>\n",
              "      <td>13.000000</td>\n",
              "      <td>13.000000</td>\n",
              "      <td>7.000000</td>\n",
              "    </tr>\n",
              "    <tr>\n",
              "      <th>50%</th>\n",
              "      <td>271.000000</td>\n",
              "      <td>271.000000</td>\n",
              "      <td>0.000000</td>\n",
              "      <td>31.000000</td>\n",
              "      <td>59.000000</td>\n",
              "      <td>156.000000</td>\n",
              "      <td>24.200000</td>\n",
              "      <td>14.000000</td>\n",
              "      <td>72.000000</td>\n",
              "      <td>18.000000</td>\n",
              "      <td>...</td>\n",
              "      <td>0.000000</td>\n",
              "      <td>1.000000</td>\n",
              "      <td>0.000000</td>\n",
              "      <td>110.000000</td>\n",
              "      <td>80.000000</td>\n",
              "      <td>5.000000</td>\n",
              "      <td>6.000000</td>\n",
              "      <td>15.000000</td>\n",
              "      <td>16.000000</td>\n",
              "      <td>8.500000</td>\n",
              "    </tr>\n",
              "    <tr>\n",
              "      <th>75%</th>\n",
              "      <td>406.000000</td>\n",
              "      <td>406.000000</td>\n",
              "      <td>1.000000</td>\n",
              "      <td>35.000000</td>\n",
              "      <td>65.000000</td>\n",
              "      <td>160.000000</td>\n",
              "      <td>26.600000</td>\n",
              "      <td>15.000000</td>\n",
              "      <td>74.000000</td>\n",
              "      <td>20.000000</td>\n",
              "      <td>...</td>\n",
              "      <td>1.000000</td>\n",
              "      <td>1.000000</td>\n",
              "      <td>0.000000</td>\n",
              "      <td>120.000000</td>\n",
              "      <td>80.000000</td>\n",
              "      <td>9.000000</td>\n",
              "      <td>10.000000</td>\n",
              "      <td>18.000000</td>\n",
              "      <td>18.000000</td>\n",
              "      <td>9.800000</td>\n",
              "    </tr>\n",
              "    <tr>\n",
              "      <th>max</th>\n",
              "      <td>541.000000</td>\n",
              "      <td>541.000000</td>\n",
              "      <td>1.000000</td>\n",
              "      <td>48.000000</td>\n",
              "      <td>108.000000</td>\n",
              "      <td>180.000000</td>\n",
              "      <td>38.900000</td>\n",
              "      <td>18.000000</td>\n",
              "      <td>82.000000</td>\n",
              "      <td>28.000000</td>\n",
              "      <td>...</td>\n",
              "      <td>1.000000</td>\n",
              "      <td>1.000000</td>\n",
              "      <td>1.000000</td>\n",
              "      <td>140.000000</td>\n",
              "      <td>100.000000</td>\n",
              "      <td>22.000000</td>\n",
              "      <td>20.000000</td>\n",
              "      <td>24.000000</td>\n",
              "      <td>24.000000</td>\n",
              "      <td>18.000000</td>\n",
              "    </tr>\n",
              "  </tbody>\n",
              "</table>\n",
              "<p>8 rows × 42 columns</p>\n",
              "</div>\n",
              "      <button class=\"colab-df-convert\" onclick=\"convertToInteractive('df-5ddbfa37-adde-4f61-81b0-c33ab24068d8')\"\n",
              "              title=\"Convert this dataframe to an interactive table.\"\n",
              "              style=\"display:none;\">\n",
              "        \n",
              "  <svg xmlns=\"http://www.w3.org/2000/svg\" height=\"24px\"viewBox=\"0 0 24 24\"\n",
              "       width=\"24px\">\n",
              "    <path d=\"M0 0h24v24H0V0z\" fill=\"none\"/>\n",
              "    <path d=\"M18.56 5.44l.94 2.06.94-2.06 2.06-.94-2.06-.94-.94-2.06-.94 2.06-2.06.94zm-11 1L8.5 8.5l.94-2.06 2.06-.94-2.06-.94L8.5 2.5l-.94 2.06-2.06.94zm10 10l.94 2.06.94-2.06 2.06-.94-2.06-.94-.94-2.06-.94 2.06-2.06.94z\"/><path d=\"M17.41 7.96l-1.37-1.37c-.4-.4-.92-.59-1.43-.59-.52 0-1.04.2-1.43.59L10.3 9.45l-7.72 7.72c-.78.78-.78 2.05 0 2.83L4 21.41c.39.39.9.59 1.41.59.51 0 1.02-.2 1.41-.59l7.78-7.78 2.81-2.81c.8-.78.8-2.07 0-2.86zM5.41 20L4 18.59l7.72-7.72 1.47 1.35L5.41 20z\"/>\n",
              "  </svg>\n",
              "      </button>\n",
              "      \n",
              "  <style>\n",
              "    .colab-df-container {\n",
              "      display:flex;\n",
              "      flex-wrap:wrap;\n",
              "      gap: 12px;\n",
              "    }\n",
              "\n",
              "    .colab-df-convert {\n",
              "      background-color: #E8F0FE;\n",
              "      border: none;\n",
              "      border-radius: 50%;\n",
              "      cursor: pointer;\n",
              "      display: none;\n",
              "      fill: #1967D2;\n",
              "      height: 32px;\n",
              "      padding: 0 0 0 0;\n",
              "      width: 32px;\n",
              "    }\n",
              "\n",
              "    .colab-df-convert:hover {\n",
              "      background-color: #E2EBFA;\n",
              "      box-shadow: 0px 1px 2px rgba(60, 64, 67, 0.3), 0px 1px 3px 1px rgba(60, 64, 67, 0.15);\n",
              "      fill: #174EA6;\n",
              "    }\n",
              "\n",
              "    [theme=dark] .colab-df-convert {\n",
              "      background-color: #3B4455;\n",
              "      fill: #D2E3FC;\n",
              "    }\n",
              "\n",
              "    [theme=dark] .colab-df-convert:hover {\n",
              "      background-color: #434B5C;\n",
              "      box-shadow: 0px 1px 3px 1px rgba(0, 0, 0, 0.15);\n",
              "      filter: drop-shadow(0px 1px 2px rgba(0, 0, 0, 0.3));\n",
              "      fill: #FFFFFF;\n",
              "    }\n",
              "  </style>\n",
              "\n",
              "      <script>\n",
              "        const buttonEl =\n",
              "          document.querySelector('#df-5ddbfa37-adde-4f61-81b0-c33ab24068d8 button.colab-df-convert');\n",
              "        buttonEl.style.display =\n",
              "          google.colab.kernel.accessAllowed ? 'block' : 'none';\n",
              "\n",
              "        async function convertToInteractive(key) {\n",
              "          const element = document.querySelector('#df-5ddbfa37-adde-4f61-81b0-c33ab24068d8');\n",
              "          const dataTable =\n",
              "            await google.colab.kernel.invokeFunction('convertToInteractive',\n",
              "                                                     [key], {});\n",
              "          if (!dataTable) return;\n",
              "\n",
              "          const docLinkHtml = 'Like what you see? Visit the ' +\n",
              "            '<a target=\"_blank\" href=https://colab.research.google.com/notebooks/data_table.ipynb>data table notebook</a>'\n",
              "            + ' to learn more about interactive tables.';\n",
              "          element.innerHTML = '';\n",
              "          dataTable['output_type'] = 'display_data';\n",
              "          await google.colab.output.renderOutput(dataTable, element);\n",
              "          const docLink = document.createElement('div');\n",
              "          docLink.innerHTML = docLinkHtml;\n",
              "          element.appendChild(docLink);\n",
              "        }\n",
              "      </script>\n",
              "    </div>\n",
              "  </div>\n",
              "  "
            ]
          },
          "metadata": {},
          "execution_count": 5
        }
      ]
    },
    {
      "cell_type": "markdown",
      "source": [
        "## Data Preprocessing"
      ],
      "metadata": {
        "id": "z5fJCLMpyR3O"
      }
    },
    {
      "cell_type": "markdown",
      "source": [
        "### Renaming PCOS (Y/N) as the Target variable "
      ],
      "metadata": {
        "id": "LDAq6OY4WB54"
      }
    },
    {
      "cell_type": "markdown",
      "source": [
        "First step for preprcessing was renaming the column that indicates if the patient indeed has PCOS Or not. We then renamed the column \"PCOS (Y/N)\" to \"Target\". It is important to note at this point that entries in columns with (Y/N) will have their value as 1 if \"Yes\" while 0 if \"No\"."
      ],
      "metadata": {
        "id": "Ey9J2e00mw8X"
      }
    },
    {
      "cell_type": "code",
      "source": [
        "df = df.rename(columns = {\"PCOS (Y/N)\": \"Target\"})\n",
        "df.head()"
      ],
      "metadata": {
        "colab": {
          "base_uri": "https://localhost:8080/",
          "height": 369
        },
        "id": "D5je2SZcWNHC",
        "outputId": "1dc7329e-b062-4598-bafa-7caed4190dfb"
      },
      "execution_count": null,
      "outputs": [
        {
          "output_type": "execute_result",
          "data": {
            "text/plain": [
              "   Sl. No  Patient File No.  Target   Age (yrs)  Weight (Kg)  Height(Cm)   \\\n",
              "0       1                 1       0          28         44.6        152.0   \n",
              "1       2                 2       0          36         65.0        161.5   \n",
              "2       3                 3       1          33         68.8        165.0   \n",
              "3       4                 4       0          37         65.0        148.0   \n",
              "4       5                 5       0          25         52.0        161.0   \n",
              "\n",
              "    BMI  Blood Group  Pulse rate(bpm)   RR (breaths/min)  ...  Pimples(Y/N)  \\\n",
              "0  19.3           15                78                22  ...             0   \n",
              "1  24.9           15                74                20  ...             0   \n",
              "2  25.3           11                72                18  ...             1   \n",
              "3  29.7           13                72                20  ...             0   \n",
              "4  20.1           11                72                18  ...             0   \n",
              "\n",
              "   Fast food (Y/N)  Reg.Exercise(Y/N)  BP _Systolic (mmHg)  \\\n",
              "0              1.0                  0                  110   \n",
              "1              0.0                  0                  120   \n",
              "2              1.0                  0                  120   \n",
              "3              0.0                  0                  120   \n",
              "4              0.0                  0                  120   \n",
              "\n",
              "   BP _Diastolic (mmHg)  Follicle No. (L)  Follicle No. (R)  \\\n",
              "0                    80                 3                 3   \n",
              "1                    70                 3                 5   \n",
              "2                    80                13                15   \n",
              "3                    70                 2                 2   \n",
              "4                    80                 3                 4   \n",
              "\n",
              "  Avg. F size (L) (mm)  Avg. F size (R) (mm)  Endometrium (mm)  \n",
              "0                 18.0                  18.0               8.5  \n",
              "1                 15.0                  14.0               3.7  \n",
              "2                 18.0                  20.0              10.0  \n",
              "3                 15.0                  14.0               7.5  \n",
              "4                 16.0                  14.0               7.0  \n",
              "\n",
              "[5 rows x 44 columns]"
            ],
            "text/html": [
              "\n",
              "  <div id=\"df-09f6ce8e-d49d-41bc-ab24-b7f9da6da7ba\">\n",
              "    <div class=\"colab-df-container\">\n",
              "      <div>\n",
              "<style scoped>\n",
              "    .dataframe tbody tr th:only-of-type {\n",
              "        vertical-align: middle;\n",
              "    }\n",
              "\n",
              "    .dataframe tbody tr th {\n",
              "        vertical-align: top;\n",
              "    }\n",
              "\n",
              "    .dataframe thead th {\n",
              "        text-align: right;\n",
              "    }\n",
              "</style>\n",
              "<table border=\"1\" class=\"dataframe\">\n",
              "  <thead>\n",
              "    <tr style=\"text-align: right;\">\n",
              "      <th></th>\n",
              "      <th>Sl. No</th>\n",
              "      <th>Patient File No.</th>\n",
              "      <th>Target</th>\n",
              "      <th>Age (yrs)</th>\n",
              "      <th>Weight (Kg)</th>\n",
              "      <th>Height(Cm)</th>\n",
              "      <th>BMI</th>\n",
              "      <th>Blood Group</th>\n",
              "      <th>Pulse rate(bpm)</th>\n",
              "      <th>RR (breaths/min)</th>\n",
              "      <th>...</th>\n",
              "      <th>Pimples(Y/N)</th>\n",
              "      <th>Fast food (Y/N)</th>\n",
              "      <th>Reg.Exercise(Y/N)</th>\n",
              "      <th>BP _Systolic (mmHg)</th>\n",
              "      <th>BP _Diastolic (mmHg)</th>\n",
              "      <th>Follicle No. (L)</th>\n",
              "      <th>Follicle No. (R)</th>\n",
              "      <th>Avg. F size (L) (mm)</th>\n",
              "      <th>Avg. F size (R) (mm)</th>\n",
              "      <th>Endometrium (mm)</th>\n",
              "    </tr>\n",
              "  </thead>\n",
              "  <tbody>\n",
              "    <tr>\n",
              "      <th>0</th>\n",
              "      <td>1</td>\n",
              "      <td>1</td>\n",
              "      <td>0</td>\n",
              "      <td>28</td>\n",
              "      <td>44.6</td>\n",
              "      <td>152.0</td>\n",
              "      <td>19.3</td>\n",
              "      <td>15</td>\n",
              "      <td>78</td>\n",
              "      <td>22</td>\n",
              "      <td>...</td>\n",
              "      <td>0</td>\n",
              "      <td>1.0</td>\n",
              "      <td>0</td>\n",
              "      <td>110</td>\n",
              "      <td>80</td>\n",
              "      <td>3</td>\n",
              "      <td>3</td>\n",
              "      <td>18.0</td>\n",
              "      <td>18.0</td>\n",
              "      <td>8.5</td>\n",
              "    </tr>\n",
              "    <tr>\n",
              "      <th>1</th>\n",
              "      <td>2</td>\n",
              "      <td>2</td>\n",
              "      <td>0</td>\n",
              "      <td>36</td>\n",
              "      <td>65.0</td>\n",
              "      <td>161.5</td>\n",
              "      <td>24.9</td>\n",
              "      <td>15</td>\n",
              "      <td>74</td>\n",
              "      <td>20</td>\n",
              "      <td>...</td>\n",
              "      <td>0</td>\n",
              "      <td>0.0</td>\n",
              "      <td>0</td>\n",
              "      <td>120</td>\n",
              "      <td>70</td>\n",
              "      <td>3</td>\n",
              "      <td>5</td>\n",
              "      <td>15.0</td>\n",
              "      <td>14.0</td>\n",
              "      <td>3.7</td>\n",
              "    </tr>\n",
              "    <tr>\n",
              "      <th>2</th>\n",
              "      <td>3</td>\n",
              "      <td>3</td>\n",
              "      <td>1</td>\n",
              "      <td>33</td>\n",
              "      <td>68.8</td>\n",
              "      <td>165.0</td>\n",
              "      <td>25.3</td>\n",
              "      <td>11</td>\n",
              "      <td>72</td>\n",
              "      <td>18</td>\n",
              "      <td>...</td>\n",
              "      <td>1</td>\n",
              "      <td>1.0</td>\n",
              "      <td>0</td>\n",
              "      <td>120</td>\n",
              "      <td>80</td>\n",
              "      <td>13</td>\n",
              "      <td>15</td>\n",
              "      <td>18.0</td>\n",
              "      <td>20.0</td>\n",
              "      <td>10.0</td>\n",
              "    </tr>\n",
              "    <tr>\n",
              "      <th>3</th>\n",
              "      <td>4</td>\n",
              "      <td>4</td>\n",
              "      <td>0</td>\n",
              "      <td>37</td>\n",
              "      <td>65.0</td>\n",
              "      <td>148.0</td>\n",
              "      <td>29.7</td>\n",
              "      <td>13</td>\n",
              "      <td>72</td>\n",
              "      <td>20</td>\n",
              "      <td>...</td>\n",
              "      <td>0</td>\n",
              "      <td>0.0</td>\n",
              "      <td>0</td>\n",
              "      <td>120</td>\n",
              "      <td>70</td>\n",
              "      <td>2</td>\n",
              "      <td>2</td>\n",
              "      <td>15.0</td>\n",
              "      <td>14.0</td>\n",
              "      <td>7.5</td>\n",
              "    </tr>\n",
              "    <tr>\n",
              "      <th>4</th>\n",
              "      <td>5</td>\n",
              "      <td>5</td>\n",
              "      <td>0</td>\n",
              "      <td>25</td>\n",
              "      <td>52.0</td>\n",
              "      <td>161.0</td>\n",
              "      <td>20.1</td>\n",
              "      <td>11</td>\n",
              "      <td>72</td>\n",
              "      <td>18</td>\n",
              "      <td>...</td>\n",
              "      <td>0</td>\n",
              "      <td>0.0</td>\n",
              "      <td>0</td>\n",
              "      <td>120</td>\n",
              "      <td>80</td>\n",
              "      <td>3</td>\n",
              "      <td>4</td>\n",
              "      <td>16.0</td>\n",
              "      <td>14.0</td>\n",
              "      <td>7.0</td>\n",
              "    </tr>\n",
              "  </tbody>\n",
              "</table>\n",
              "<p>5 rows × 44 columns</p>\n",
              "</div>\n",
              "      <button class=\"colab-df-convert\" onclick=\"convertToInteractive('df-09f6ce8e-d49d-41bc-ab24-b7f9da6da7ba')\"\n",
              "              title=\"Convert this dataframe to an interactive table.\"\n",
              "              style=\"display:none;\">\n",
              "        \n",
              "  <svg xmlns=\"http://www.w3.org/2000/svg\" height=\"24px\"viewBox=\"0 0 24 24\"\n",
              "       width=\"24px\">\n",
              "    <path d=\"M0 0h24v24H0V0z\" fill=\"none\"/>\n",
              "    <path d=\"M18.56 5.44l.94 2.06.94-2.06 2.06-.94-2.06-.94-.94-2.06-.94 2.06-2.06.94zm-11 1L8.5 8.5l.94-2.06 2.06-.94-2.06-.94L8.5 2.5l-.94 2.06-2.06.94zm10 10l.94 2.06.94-2.06 2.06-.94-2.06-.94-.94-2.06-.94 2.06-2.06.94z\"/><path d=\"M17.41 7.96l-1.37-1.37c-.4-.4-.92-.59-1.43-.59-.52 0-1.04.2-1.43.59L10.3 9.45l-7.72 7.72c-.78.78-.78 2.05 0 2.83L4 21.41c.39.39.9.59 1.41.59.51 0 1.02-.2 1.41-.59l7.78-7.78 2.81-2.81c.8-.78.8-2.07 0-2.86zM5.41 20L4 18.59l7.72-7.72 1.47 1.35L5.41 20z\"/>\n",
              "  </svg>\n",
              "      </button>\n",
              "      \n",
              "  <style>\n",
              "    .colab-df-container {\n",
              "      display:flex;\n",
              "      flex-wrap:wrap;\n",
              "      gap: 12px;\n",
              "    }\n",
              "\n",
              "    .colab-df-convert {\n",
              "      background-color: #E8F0FE;\n",
              "      border: none;\n",
              "      border-radius: 50%;\n",
              "      cursor: pointer;\n",
              "      display: none;\n",
              "      fill: #1967D2;\n",
              "      height: 32px;\n",
              "      padding: 0 0 0 0;\n",
              "      width: 32px;\n",
              "    }\n",
              "\n",
              "    .colab-df-convert:hover {\n",
              "      background-color: #E2EBFA;\n",
              "      box-shadow: 0px 1px 2px rgba(60, 64, 67, 0.3), 0px 1px 3px 1px rgba(60, 64, 67, 0.15);\n",
              "      fill: #174EA6;\n",
              "    }\n",
              "\n",
              "    [theme=dark] .colab-df-convert {\n",
              "      background-color: #3B4455;\n",
              "      fill: #D2E3FC;\n",
              "    }\n",
              "\n",
              "    [theme=dark] .colab-df-convert:hover {\n",
              "      background-color: #434B5C;\n",
              "      box-shadow: 0px 1px 3px 1px rgba(0, 0, 0, 0.15);\n",
              "      filter: drop-shadow(0px 1px 2px rgba(0, 0, 0, 0.3));\n",
              "      fill: #FFFFFF;\n",
              "    }\n",
              "  </style>\n",
              "\n",
              "      <script>\n",
              "        const buttonEl =\n",
              "          document.querySelector('#df-09f6ce8e-d49d-41bc-ab24-b7f9da6da7ba button.colab-df-convert');\n",
              "        buttonEl.style.display =\n",
              "          google.colab.kernel.accessAllowed ? 'block' : 'none';\n",
              "\n",
              "        async function convertToInteractive(key) {\n",
              "          const element = document.querySelector('#df-09f6ce8e-d49d-41bc-ab24-b7f9da6da7ba');\n",
              "          const dataTable =\n",
              "            await google.colab.kernel.invokeFunction('convertToInteractive',\n",
              "                                                     [key], {});\n",
              "          if (!dataTable) return;\n",
              "\n",
              "          const docLinkHtml = 'Like what you see? Visit the ' +\n",
              "            '<a target=\"_blank\" href=https://colab.research.google.com/notebooks/data_table.ipynb>data table notebook</a>'\n",
              "            + ' to learn more about interactive tables.';\n",
              "          element.innerHTML = '';\n",
              "          dataTable['output_type'] = 'display_data';\n",
              "          await google.colab.output.renderOutput(dataTable, element);\n",
              "          const docLink = document.createElement('div');\n",
              "          docLink.innerHTML = docLinkHtml;\n",
              "          element.appendChild(docLink);\n",
              "        }\n",
              "      </script>\n",
              "    </div>\n",
              "  </div>\n",
              "  "
            ]
          },
          "metadata": {},
          "execution_count": 6
        }
      ]
    },
    {
      "cell_type": "markdown",
      "source": [
        "### Checking for null values"
      ],
      "metadata": {
        "id": "LUtX3_CrG5Bs"
      }
    },
    {
      "cell_type": "markdown",
      "source": [
        "We then automatically proceed with the systematic cleaning of our dataset by checking which columns have null values with them and then replace them with the null of that feature so that we can maintain the dataset."
      ],
      "metadata": {
        "id": "WQue0djJm1rM"
      }
    },
    {
      "cell_type": "code",
      "source": [
        "df.columns[df.isnull().any()]"
      ],
      "metadata": {
        "colab": {
          "base_uri": "https://localhost:8080/"
        },
        "id": "sIUdabevyhwV",
        "outputId": "fa91b14d-d78e-4339-f699-5a1622b2e572"
      },
      "execution_count": null,
      "outputs": [
        {
          "output_type": "execute_result",
          "data": {
            "text/plain": [
              "Index(['Marraige Status (Yrs)', 'Fast food (Y/N)'], dtype='object')"
            ]
          },
          "metadata": {},
          "execution_count": 7
        }
      ]
    },
    {
      "cell_type": "markdown",
      "source": [
        "### Replacing null values with the mean of the feature"
      ],
      "metadata": {
        "id": "AgtgjGThy22U"
      }
    },
    {
      "cell_type": "code",
      "source": [
        "df['Marraige Status (Yrs)'].fillna(df['Marraige Status (Yrs)'].mean(),inplace=True)\n",
        "df['Fast food (Y/N)'].fillna(df['Fast food (Y/N)'].mean(),inplace=True)"
      ],
      "metadata": {
        "id": "ITKS6404ywky"
      },
      "execution_count": null,
      "outputs": []
    },
    {
      "cell_type": "markdown",
      "source": [
        "### Confirming that there are no null values left"
      ],
      "metadata": {
        "id": "IOSTKduyzEr-"
      }
    },
    {
      "cell_type": "code",
      "source": [
        "df.columns[df.isnull().any()]"
      ],
      "metadata": {
        "colab": {
          "base_uri": "https://localhost:8080/"
        },
        "id": "gS0e89QbzQ8b",
        "outputId": "f6b2cb0e-df11-4c36-a35e-0136ce1f12d6"
      },
      "execution_count": null,
      "outputs": [
        {
          "output_type": "execute_result",
          "data": {
            "text/plain": [
              "Index([], dtype='object')"
            ]
          },
          "metadata": {},
          "execution_count": 9
        }
      ]
    },
    {
      "cell_type": "markdown",
      "source": [
        "### Dropping unnecessary columns"
      ],
      "metadata": {
        "id": "2OBmySBFzfG7"
      }
    },
    {
      "cell_type": "markdown",
      "source": [
        "We then drop the columns \"Sl. No\" and \"Patient File No.\" from the dataset since those columns don't really need to be taken into account when checking if the patient has PCOS or not."
      ],
      "metadata": {
        "id": "d5m4CKDdnS9D"
      }
    },
    {
      "cell_type": "code",
      "source": [
        "df = df.drop([\"Sl. No\", \"Patient File No.\"], axis = 1)\n",
        "df.head(5)"
      ],
      "metadata": {
        "colab": {
          "base_uri": "https://localhost:8080/",
          "height": 369
        },
        "id": "glV2LiqQzp07",
        "outputId": "cdf7a0ac-53eb-4736-9545-498768eba6a5"
      },
      "execution_count": null,
      "outputs": [
        {
          "output_type": "execute_result",
          "data": {
            "text/plain": [
              "   Target   Age (yrs)  Weight (Kg)  Height(Cm)    BMI  Blood Group  \\\n",
              "0       0          28         44.6        152.0  19.3           15   \n",
              "1       0          36         65.0        161.5  24.9           15   \n",
              "2       1          33         68.8        165.0  25.3           11   \n",
              "3       0          37         65.0        148.0  29.7           13   \n",
              "4       0          25         52.0        161.0  20.1           11   \n",
              "\n",
              "   Pulse rate(bpm)   RR (breaths/min)  Hb(g/dl)  Cycle(R/I)  ...  \\\n",
              "0                78                22     10.48           2  ...   \n",
              "1                74                20     11.70           2  ...   \n",
              "2                72                18     11.80           2  ...   \n",
              "3                72                20     12.00           2  ...   \n",
              "4                72                18     10.00           2  ...   \n",
              "\n",
              "   Pimples(Y/N)  Fast food (Y/N)  Reg.Exercise(Y/N)  BP _Systolic (mmHg)  \\\n",
              "0             0              1.0                  0                  110   \n",
              "1             0              0.0                  0                  120   \n",
              "2             1              1.0                  0                  120   \n",
              "3             0              0.0                  0                  120   \n",
              "4             0              0.0                  0                  120   \n",
              "\n",
              "   BP _Diastolic (mmHg) Follicle No. (L)  Follicle No. (R)  \\\n",
              "0                    80                3                 3   \n",
              "1                    70                3                 5   \n",
              "2                    80               13                15   \n",
              "3                    70                2                 2   \n",
              "4                    80                3                 4   \n",
              "\n",
              "   Avg. F size (L) (mm)  Avg. F size (R) (mm)  Endometrium (mm)  \n",
              "0                  18.0                  18.0               8.5  \n",
              "1                  15.0                  14.0               3.7  \n",
              "2                  18.0                  20.0              10.0  \n",
              "3                  15.0                  14.0               7.5  \n",
              "4                  16.0                  14.0               7.0  \n",
              "\n",
              "[5 rows x 42 columns]"
            ],
            "text/html": [
              "\n",
              "  <div id=\"df-3099c92f-cdb0-45a0-8b5a-ad5fed19c325\">\n",
              "    <div class=\"colab-df-container\">\n",
              "      <div>\n",
              "<style scoped>\n",
              "    .dataframe tbody tr th:only-of-type {\n",
              "        vertical-align: middle;\n",
              "    }\n",
              "\n",
              "    .dataframe tbody tr th {\n",
              "        vertical-align: top;\n",
              "    }\n",
              "\n",
              "    .dataframe thead th {\n",
              "        text-align: right;\n",
              "    }\n",
              "</style>\n",
              "<table border=\"1\" class=\"dataframe\">\n",
              "  <thead>\n",
              "    <tr style=\"text-align: right;\">\n",
              "      <th></th>\n",
              "      <th>Target</th>\n",
              "      <th>Age (yrs)</th>\n",
              "      <th>Weight (Kg)</th>\n",
              "      <th>Height(Cm)</th>\n",
              "      <th>BMI</th>\n",
              "      <th>Blood Group</th>\n",
              "      <th>Pulse rate(bpm)</th>\n",
              "      <th>RR (breaths/min)</th>\n",
              "      <th>Hb(g/dl)</th>\n",
              "      <th>Cycle(R/I)</th>\n",
              "      <th>...</th>\n",
              "      <th>Pimples(Y/N)</th>\n",
              "      <th>Fast food (Y/N)</th>\n",
              "      <th>Reg.Exercise(Y/N)</th>\n",
              "      <th>BP _Systolic (mmHg)</th>\n",
              "      <th>BP _Diastolic (mmHg)</th>\n",
              "      <th>Follicle No. (L)</th>\n",
              "      <th>Follicle No. (R)</th>\n",
              "      <th>Avg. F size (L) (mm)</th>\n",
              "      <th>Avg. F size (R) (mm)</th>\n",
              "      <th>Endometrium (mm)</th>\n",
              "    </tr>\n",
              "  </thead>\n",
              "  <tbody>\n",
              "    <tr>\n",
              "      <th>0</th>\n",
              "      <td>0</td>\n",
              "      <td>28</td>\n",
              "      <td>44.6</td>\n",
              "      <td>152.0</td>\n",
              "      <td>19.3</td>\n",
              "      <td>15</td>\n",
              "      <td>78</td>\n",
              "      <td>22</td>\n",
              "      <td>10.48</td>\n",
              "      <td>2</td>\n",
              "      <td>...</td>\n",
              "      <td>0</td>\n",
              "      <td>1.0</td>\n",
              "      <td>0</td>\n",
              "      <td>110</td>\n",
              "      <td>80</td>\n",
              "      <td>3</td>\n",
              "      <td>3</td>\n",
              "      <td>18.0</td>\n",
              "      <td>18.0</td>\n",
              "      <td>8.5</td>\n",
              "    </tr>\n",
              "    <tr>\n",
              "      <th>1</th>\n",
              "      <td>0</td>\n",
              "      <td>36</td>\n",
              "      <td>65.0</td>\n",
              "      <td>161.5</td>\n",
              "      <td>24.9</td>\n",
              "      <td>15</td>\n",
              "      <td>74</td>\n",
              "      <td>20</td>\n",
              "      <td>11.70</td>\n",
              "      <td>2</td>\n",
              "      <td>...</td>\n",
              "      <td>0</td>\n",
              "      <td>0.0</td>\n",
              "      <td>0</td>\n",
              "      <td>120</td>\n",
              "      <td>70</td>\n",
              "      <td>3</td>\n",
              "      <td>5</td>\n",
              "      <td>15.0</td>\n",
              "      <td>14.0</td>\n",
              "      <td>3.7</td>\n",
              "    </tr>\n",
              "    <tr>\n",
              "      <th>2</th>\n",
              "      <td>1</td>\n",
              "      <td>33</td>\n",
              "      <td>68.8</td>\n",
              "      <td>165.0</td>\n",
              "      <td>25.3</td>\n",
              "      <td>11</td>\n",
              "      <td>72</td>\n",
              "      <td>18</td>\n",
              "      <td>11.80</td>\n",
              "      <td>2</td>\n",
              "      <td>...</td>\n",
              "      <td>1</td>\n",
              "      <td>1.0</td>\n",
              "      <td>0</td>\n",
              "      <td>120</td>\n",
              "      <td>80</td>\n",
              "      <td>13</td>\n",
              "      <td>15</td>\n",
              "      <td>18.0</td>\n",
              "      <td>20.0</td>\n",
              "      <td>10.0</td>\n",
              "    </tr>\n",
              "    <tr>\n",
              "      <th>3</th>\n",
              "      <td>0</td>\n",
              "      <td>37</td>\n",
              "      <td>65.0</td>\n",
              "      <td>148.0</td>\n",
              "      <td>29.7</td>\n",
              "      <td>13</td>\n",
              "      <td>72</td>\n",
              "      <td>20</td>\n",
              "      <td>12.00</td>\n",
              "      <td>2</td>\n",
              "      <td>...</td>\n",
              "      <td>0</td>\n",
              "      <td>0.0</td>\n",
              "      <td>0</td>\n",
              "      <td>120</td>\n",
              "      <td>70</td>\n",
              "      <td>2</td>\n",
              "      <td>2</td>\n",
              "      <td>15.0</td>\n",
              "      <td>14.0</td>\n",
              "      <td>7.5</td>\n",
              "    </tr>\n",
              "    <tr>\n",
              "      <th>4</th>\n",
              "      <td>0</td>\n",
              "      <td>25</td>\n",
              "      <td>52.0</td>\n",
              "      <td>161.0</td>\n",
              "      <td>20.1</td>\n",
              "      <td>11</td>\n",
              "      <td>72</td>\n",
              "      <td>18</td>\n",
              "      <td>10.00</td>\n",
              "      <td>2</td>\n",
              "      <td>...</td>\n",
              "      <td>0</td>\n",
              "      <td>0.0</td>\n",
              "      <td>0</td>\n",
              "      <td>120</td>\n",
              "      <td>80</td>\n",
              "      <td>3</td>\n",
              "      <td>4</td>\n",
              "      <td>16.0</td>\n",
              "      <td>14.0</td>\n",
              "      <td>7.0</td>\n",
              "    </tr>\n",
              "  </tbody>\n",
              "</table>\n",
              "<p>5 rows × 42 columns</p>\n",
              "</div>\n",
              "      <button class=\"colab-df-convert\" onclick=\"convertToInteractive('df-3099c92f-cdb0-45a0-8b5a-ad5fed19c325')\"\n",
              "              title=\"Convert this dataframe to an interactive table.\"\n",
              "              style=\"display:none;\">\n",
              "        \n",
              "  <svg xmlns=\"http://www.w3.org/2000/svg\" height=\"24px\"viewBox=\"0 0 24 24\"\n",
              "       width=\"24px\">\n",
              "    <path d=\"M0 0h24v24H0V0z\" fill=\"none\"/>\n",
              "    <path d=\"M18.56 5.44l.94 2.06.94-2.06 2.06-.94-2.06-.94-.94-2.06-.94 2.06-2.06.94zm-11 1L8.5 8.5l.94-2.06 2.06-.94-2.06-.94L8.5 2.5l-.94 2.06-2.06.94zm10 10l.94 2.06.94-2.06 2.06-.94-2.06-.94-.94-2.06-.94 2.06-2.06.94z\"/><path d=\"M17.41 7.96l-1.37-1.37c-.4-.4-.92-.59-1.43-.59-.52 0-1.04.2-1.43.59L10.3 9.45l-7.72 7.72c-.78.78-.78 2.05 0 2.83L4 21.41c.39.39.9.59 1.41.59.51 0 1.02-.2 1.41-.59l7.78-7.78 2.81-2.81c.8-.78.8-2.07 0-2.86zM5.41 20L4 18.59l7.72-7.72 1.47 1.35L5.41 20z\"/>\n",
              "  </svg>\n",
              "      </button>\n",
              "      \n",
              "  <style>\n",
              "    .colab-df-container {\n",
              "      display:flex;\n",
              "      flex-wrap:wrap;\n",
              "      gap: 12px;\n",
              "    }\n",
              "\n",
              "    .colab-df-convert {\n",
              "      background-color: #E8F0FE;\n",
              "      border: none;\n",
              "      border-radius: 50%;\n",
              "      cursor: pointer;\n",
              "      display: none;\n",
              "      fill: #1967D2;\n",
              "      height: 32px;\n",
              "      padding: 0 0 0 0;\n",
              "      width: 32px;\n",
              "    }\n",
              "\n",
              "    .colab-df-convert:hover {\n",
              "      background-color: #E2EBFA;\n",
              "      box-shadow: 0px 1px 2px rgba(60, 64, 67, 0.3), 0px 1px 3px 1px rgba(60, 64, 67, 0.15);\n",
              "      fill: #174EA6;\n",
              "    }\n",
              "\n",
              "    [theme=dark] .colab-df-convert {\n",
              "      background-color: #3B4455;\n",
              "      fill: #D2E3FC;\n",
              "    }\n",
              "\n",
              "    [theme=dark] .colab-df-convert:hover {\n",
              "      background-color: #434B5C;\n",
              "      box-shadow: 0px 1px 3px 1px rgba(0, 0, 0, 0.15);\n",
              "      filter: drop-shadow(0px 1px 2px rgba(0, 0, 0, 0.3));\n",
              "      fill: #FFFFFF;\n",
              "    }\n",
              "  </style>\n",
              "\n",
              "      <script>\n",
              "        const buttonEl =\n",
              "          document.querySelector('#df-3099c92f-cdb0-45a0-8b5a-ad5fed19c325 button.colab-df-convert');\n",
              "        buttonEl.style.display =\n",
              "          google.colab.kernel.accessAllowed ? 'block' : 'none';\n",
              "\n",
              "        async function convertToInteractive(key) {\n",
              "          const element = document.querySelector('#df-3099c92f-cdb0-45a0-8b5a-ad5fed19c325');\n",
              "          const dataTable =\n",
              "            await google.colab.kernel.invokeFunction('convertToInteractive',\n",
              "                                                     [key], {});\n",
              "          if (!dataTable) return;\n",
              "\n",
              "          const docLinkHtml = 'Like what you see? Visit the ' +\n",
              "            '<a target=\"_blank\" href=https://colab.research.google.com/notebooks/data_table.ipynb>data table notebook</a>'\n",
              "            + ' to learn more about interactive tables.';\n",
              "          element.innerHTML = '';\n",
              "          dataTable['output_type'] = 'display_data';\n",
              "          await google.colab.output.renderOutput(dataTable, element);\n",
              "          const docLink = document.createElement('div');\n",
              "          docLink.innerHTML = docLinkHtml;\n",
              "          element.appendChild(docLink);\n",
              "        }\n",
              "      </script>\n",
              "    </div>\n",
              "  </div>\n",
              "  "
            ]
          },
          "metadata": {},
          "execution_count": 10
        }
      ]
    },
    {
      "cell_type": "markdown",
      "source": [
        "### Checking the columns with an object data type"
      ],
      "metadata": {
        "id": "y1lKf0mhzBmt"
      }
    },
    {
      "cell_type": "markdown",
      "source": [
        "As seen earlier, our dataset would have columns with a \"object\" datatype rather than being a float or an integer."
      ],
      "metadata": {
        "id": "Q0yhO38goD5F"
      }
    },
    {
      "cell_type": "code",
      "source": [
        "df['AMH(ng/mL)'].head(10)"
      ],
      "metadata": {
        "colab": {
          "base_uri": "https://localhost:8080/"
        },
        "id": "CqIPeO9pzE0s",
        "outputId": "832080de-a916-4357-d736-6ae8b4e6365f"
      },
      "execution_count": null,
      "outputs": [
        {
          "output_type": "execute_result",
          "data": {
            "text/plain": [
              "0    2.07\n",
              "1    1.53\n",
              "2    6.63\n",
              "3    1.22\n",
              "4    2.26\n",
              "5    6.74\n",
              "6    3.05\n",
              "7    1.54\n",
              "8       1\n",
              "9    1.61\n",
              "Name: AMH(ng/mL), dtype: object"
            ]
          },
          "metadata": {},
          "execution_count": 11
        }
      ]
    },
    {
      "cell_type": "code",
      "source": [
        "df['II    beta-HCG(mIU/mL)'].head(10)"
      ],
      "metadata": {
        "colab": {
          "base_uri": "https://localhost:8080/"
        },
        "id": "aFtxVR3EzKkB",
        "outputId": "63f07cec-3e37-446b-c289-72931a5dc18f"
      },
      "execution_count": null,
      "outputs": [
        {
          "output_type": "execute_result",
          "data": {
            "text/plain": [
              "0      1.99\n",
              "1      1.99\n",
              "2    494.08\n",
              "3      1.99\n",
              "4    801.45\n",
              "5      1.99\n",
              "6      1.99\n",
              "7    100.51\n",
              "8      1.99\n",
              "9      1.99\n",
              "Name: II    beta-HCG(mIU/mL), dtype: object"
            ]
          },
          "metadata": {},
          "execution_count": 12
        }
      ]
    },
    {
      "cell_type": "markdown",
      "source": [
        "### Converting columns with object data type to float"
      ],
      "metadata": {
        "id": "AZqxNT2CzUjd"
      }
    },
    {
      "cell_type": "markdown",
      "source": [
        "To make sure our SVM machine can run smoothly, we then convert those values with their datatype being 'object' and convert all of them to the float datatype."
      ],
      "metadata": {
        "id": "wcHkauOUpE9x"
      }
    },
    {
      "cell_type": "code",
      "source": [
        "df[\"AMH(ng/mL)\"] = pd.to_numeric(df[\"AMH(ng/mL)\"], errors='coerce')\n",
        "df[\"II    beta-HCG(mIU/mL)\"] = pd.to_numeric(df[\"II    beta-HCG(mIU/mL)\"], errors='coerce')"
      ],
      "metadata": {
        "id": "ZJHOvWWnzcbN"
      },
      "execution_count": null,
      "outputs": []
    },
    {
      "cell_type": "markdown",
      "source": [
        "### Checking if any values became null"
      ],
      "metadata": {
        "id": "1Kmp0DZH1fAi"
      }
    },
    {
      "cell_type": "code",
      "source": [
        "df.columns[df.isna().any().tolist()]"
      ],
      "metadata": {
        "colab": {
          "base_uri": "https://localhost:8080/"
        },
        "id": "s-flP8Cb1m3m",
        "outputId": "fdd678c1-1f6a-4c6d-b9be-ee8dc0af9284"
      },
      "execution_count": null,
      "outputs": [
        {
          "output_type": "execute_result",
          "data": {
            "text/plain": [
              "Index(['II    beta-HCG(mIU/mL)', 'AMH(ng/mL)'], dtype='object')"
            ]
          },
          "metadata": {},
          "execution_count": 14
        }
      ]
    },
    {
      "cell_type": "markdown",
      "source": [
        "### Checking how many values per column became null"
      ],
      "metadata": {
        "id": "i0x2SAVp1qsP"
      }
    },
    {
      "cell_type": "code",
      "source": [
        "df['AMH(ng/mL)'].isnull().sum()\n",
        "df['II    beta-HCG(mIU/mL)'].isnull().sum()"
      ],
      "metadata": {
        "colab": {
          "base_uri": "https://localhost:8080/"
        },
        "id": "-L8McJwM1zrx",
        "outputId": "41e5365e-26b0-439d-e881-ba40b5ea2168"
      },
      "execution_count": null,
      "outputs": [
        {
          "output_type": "execute_result",
          "data": {
            "text/plain": [
              "1"
            ]
          },
          "metadata": {},
          "execution_count": 15
        }
      ]
    },
    {
      "cell_type": "markdown",
      "source": [
        "### Dropping the NaN values\n",
        "\n"
      ],
      "metadata": {
        "id": "GgNl0CxQ64hA"
      }
    },
    {
      "cell_type": "code",
      "source": [
        "df = df.dropna()"
      ],
      "metadata": {
        "id": "T-kNICJ-69EA"
      },
      "execution_count": null,
      "outputs": []
    },
    {
      "cell_type": "markdown",
      "source": [
        "### Confirming that all columns have an integer or float data type"
      ],
      "metadata": {
        "id": "U3zBT9eYzrjV"
      }
    },
    {
      "cell_type": "code",
      "source": [
        "df.dtypes"
      ],
      "metadata": {
        "colab": {
          "base_uri": "https://localhost:8080/"
        },
        "id": "V32pW0Y4zkgS",
        "outputId": "253ba8ed-97b0-4746-936a-b7e8029880c7"
      },
      "execution_count": null,
      "outputs": [
        {
          "output_type": "execute_result",
          "data": {
            "text/plain": [
              "Target                      int64\n",
              " Age (yrs)                  int64\n",
              "Weight (Kg)               float64\n",
              "Height(Cm)                float64\n",
              "BMI                       float64\n",
              "Blood Group                 int64\n",
              "Pulse rate(bpm)             int64\n",
              "RR (breaths/min)            int64\n",
              "Hb(g/dl)                  float64\n",
              "Cycle(R/I)                  int64\n",
              "Cycle length(days)          int64\n",
              "Marraige Status (Yrs)     float64\n",
              "Pregnant(Y/N)               int64\n",
              "No. of abortions            int64\n",
              "  I   beta-HCG(mIU/mL)    float64\n",
              "II    beta-HCG(mIU/mL)    float64\n",
              "FSH(mIU/mL)               float64\n",
              "LH(mIU/mL)                float64\n",
              "FSH/LH                    float64\n",
              "Hip(inch)                   int64\n",
              "Waist(inch)                 int64\n",
              "Waist:Hip Ratio           float64\n",
              "TSH (mIU/L)               float64\n",
              "AMH(ng/mL)                float64\n",
              "PRL(ng/mL)                float64\n",
              "Vit D3 (ng/mL)            float64\n",
              "PRG(ng/mL)                float64\n",
              "RBS(mg/dl)                float64\n",
              "Weight gain(Y/N)            int64\n",
              "hair growth(Y/N)            int64\n",
              "Skin darkening (Y/N)        int64\n",
              "Hair loss(Y/N)              int64\n",
              "Pimples(Y/N)                int64\n",
              "Fast food (Y/N)           float64\n",
              "Reg.Exercise(Y/N)           int64\n",
              "BP _Systolic (mmHg)         int64\n",
              "BP _Diastolic (mmHg)        int64\n",
              "Follicle No. (L)            int64\n",
              "Follicle No. (R)            int64\n",
              "Avg. F size (L) (mm)      float64\n",
              "Avg. F size (R) (mm)      float64\n",
              "Endometrium (mm)          float64\n",
              "dtype: object"
            ]
          },
          "metadata": {},
          "execution_count": 17
        }
      ]
    },
    {
      "cell_type": "markdown",
      "source": [
        "## Data Visualization"
      ],
      "metadata": {
        "id": "tlYcYgs-ymPr"
      }
    },
    {
      "cell_type": "markdown",
      "source": [
        "Now sometimes it's not enough to describe the dataset with descriptive statistics. Sometimes we need to see some visuals on our dataset. So if you look at the piechart below, it will show how many patients tested positive or negative from PCOS."
      ],
      "metadata": {
        "id": "eYjozf12qN55"
      }
    },
    {
      "cell_type": "code",
      "source": [
        "import plotly.express as px\n",
        "\n",
        "series = df['Target'].value_counts()\n",
        "\n",
        "\n",
        "piechartdata = pd.DataFrame({'Target':[series[0],series[1]]},index = ['PCOS negative', 'PCOS positive'])\n",
        "plot = piechartdata.plot.pie(y = 'Target', figsize=(5, 5))\n",
        "\n",
        "\n"
      ],
      "metadata": {
        "id": "yEZE2AzJHRT2",
        "colab": {
          "base_uri": "https://localhost:8080/",
          "height": 422
        },
        "outputId": "1acb380f-5132-451e-a503-ae3d48b84cb6"
      },
      "execution_count": null,
      "outputs": [
        {
          "output_type": "display_data",
          "data": {
            "text/plain": [
              "<Figure size 500x500 with 1 Axes>"
            ],
            "image/png": "[encoded data removed]"
          },
          "metadata": {}
        }
      ]
    },
    {
      "cell_type": "markdown",
      "source": [
        "## Data Modeling Using Support Vector Machines"
      ],
      "metadata": {
        "id": "GAf_Ckz70l_C"
      }
    },
    {
      "cell_type": "markdown",
      "source": [
        "### Preparing the dataset for training and testing"
      ],
      "metadata": {
        "id": "oSZRljpYZBxu"
      }
    },
    {
      "cell_type": "code",
      "source": [
        "from sklearn.model_selection import train_test_split\n",
        "X = df.drop(['Target'], axis=1)\n",
        "y = df['Target']\n",
        "X_train, X_test, y_train, y_test = train_test_split(X, y, test_size=0.20, random_state=69)"
      ],
      "metadata": {
        "id": "9irbPhfm04Lu"
      },
      "execution_count": null,
      "outputs": []
    },
    {
      "cell_type": "markdown",
      "source": [
        "### Normalizing the data"
      ],
      "metadata": {
        "id": "xh_160CCZF-2"
      }
    },
    {
      "cell_type": "code",
      "source": [
        "from sklearn.preprocessing import StandardScaler\n",
        "sc = StandardScaler()\n",
        "X_train = sc.fit_transform(X_train)\n",
        "X_test = sc.transform(X_test)"
      ],
      "metadata": {
        "id": "YG2bu1-mZHwm"
      },
      "execution_count": null,
      "outputs": []
    },
    {
      "cell_type": "markdown",
      "source": [
        "### Training and testing the model"
      ],
      "metadata": {
        "id": "gTLePpKNz72F"
      }
    },
    {
      "cell_type": "code",
      "source": [
        "from sklearn.svm import SVC\n",
        "svc_model = SVC()\n",
        "svc_model.fit(X_train,y_train)"
      ],
      "metadata": {
        "colab": {
          "base_uri": "https://localhost:8080/",
          "height": 74
        },
        "id": "QlDziL67z99I",
        "outputId": "ee480722-d093-46c9-a4d4-c01901352c9f"
      },
      "execution_count": null,
      "outputs": [
        {
          "output_type": "execute_result",
          "data": {
            "text/plain": [
              "SVC()"
            ],
            "text/html": [
              "<style>#sk-container-id-1 {color: black;background-color: white;}#sk-container-id-1 pre{padding: 0;}#sk-container-id-1 div.sk-toggleable {background-color: white;}#sk-container-id-1 label.sk-toggleable__label {cursor: pointer;display: block;width: 100%;margin-bottom: 0;padding: 0.3em;box-sizing: border-box;text-align: center;}#sk-container-id-1 label.sk-toggleable__label-arrow:before {content: \"▸\";float: left;margin-right: 0.25em;color: #696969;}#sk-container-id-1 label.sk-toggleable__label-arrow:hover:before {color: black;}#sk-container-id-1 div.sk-estimator:hover label.sk-toggleable__label-arrow:before {color: black;}#sk-container-id-1 div.sk-toggleable__content {max-height: 0;max-width: 0;overflow: hidden;text-align: left;background-color: #f0f8ff;}#sk-container-id-1 div.sk-toggleable__content pre {margin: 0.2em;color: black;border-radius: 0.25em;background-color: #f0f8ff;}#sk-container-id-1 input.sk-toggleable__control:checked~div.sk-toggleable__content {max-height: 200px;max-width: 100%;overflow: auto;}#sk-container-id-1 input.sk-toggleable__control:checked~label.sk-toggleable__label-arrow:before {content: \"▾\";}#sk-container-id-1 div.sk-estimator input.sk-toggleable__control:checked~label.sk-toggleable__label {background-color: #d4ebff;}#sk-container-id-1 div.sk-label input.sk-toggleable__control:checked~label.sk-toggleable__label {background-color: #d4ebff;}#sk-container-id-1 input.sk-hidden--visually {border: 0;clip: rect(1px 1px 1px 1px);clip: rect(1px, 1px, 1px, 1px);height: 1px;margin: -1px;overflow: hidden;padding: 0;position: absolute;width: 1px;}#sk-container-id-1 div.sk-estimator {font-family: monospace;background-color: #f0f8ff;border: 1px dotted black;border-radius: 0.25em;box-sizing: border-box;margin-bottom: 0.5em;}#sk-container-id-1 div.sk-estimator:hover {background-color: #d4ebff;}#sk-container-id-1 div.sk-parallel-item::after {content: \"\";width: 100%;border-bottom: 1px solid gray;flex-grow: 1;}#sk-container-id-1 div.sk-label:hover label.sk-toggleable__label {background-color: #d4ebff;}#sk-container-id-1 div.sk-serial::before {content: \"\";position: absolute;border-left: 1px solid gray;box-sizing: border-box;top: 0;bottom: 0;left: 50%;z-index: 0;}#sk-container-id-1 div.sk-serial {display: flex;flex-direction: column;align-items: center;background-color: white;padding-right: 0.2em;padding-left: 0.2em;position: relative;}#sk-container-id-1 div.sk-item {position: relative;z-index: 1;}#sk-container-id-1 div.sk-parallel {display: flex;align-items: stretch;justify-content: center;background-color: white;position: relative;}#sk-container-id-1 div.sk-item::before, #sk-container-id-1 div.sk-parallel-item::before {content: \"\";position: absolute;border-left: 1px solid gray;box-sizing: border-box;top: 0;bottom: 0;left: 50%;z-index: -1;}#sk-container-id-1 div.sk-parallel-item {display: flex;flex-direction: column;z-index: 1;position: relative;background-color: white;}#sk-container-id-1 div.sk-parallel-item:first-child::after {align-self: flex-end;width: 50%;}#sk-container-id-1 div.sk-parallel-item:last-child::after {align-self: flex-start;width: 50%;}#sk-container-id-1 div.sk-parallel-item:only-child::after {width: 0;}#sk-container-id-1 div.sk-dashed-wrapped {border: 1px dashed gray;margin: 0 0.4em 0.5em 0.4em;box-sizing: border-box;padding-bottom: 0.4em;background-color: white;}#sk-container-id-1 div.sk-label label {font-family: monospace;font-weight: bold;display: inline-block;line-height: 1.2em;}#sk-container-id-1 div.sk-label-container {text-align: center;}#sk-container-id-1 div.sk-container {/* jupyter's `normalize.less` sets `[hidden] { display: none; }` but bootstrap.min.css set `[hidden] { display: none !important; }` so we also need the `!important` here to be able to override the default hidden behavior on the sphinx rendered scikit-learn.org. See: https://github.com/scikit-learn/scikit-learn/issues/21755 */display: inline-block !important;position: relative;}#sk-container-id-1 div.sk-text-repr-fallback {display: none;}</style><div id=\"sk-container-id-1\" class=\"sk-top-container\"><div class=\"sk-text-repr-fallback\"><pre>SVC()</pre><b>In a Jupyter environment, please rerun this cell to show the HTML representation or trust the notebook. <br />On GitHub, the HTML representation is unable to render, please try loading this page with nbviewer.org.</b></div><div class=\"sk-container\" hidden><div class=\"sk-item\"><div class=\"sk-estimator sk-toggleable\"><input class=\"sk-toggleable__control sk-hidden--visually\" id=\"sk-estimator-id-1\" type=\"checkbox\" checked><label for=\"sk-estimator-id-1\" class=\"sk-toggleable__label sk-toggleable__label-arrow\">SVC</label><div class=\"sk-toggleable__content\"><pre>SVC()</pre></div></div></div></div></div>"
            ]
          },
          "metadata": {},
          "execution_count": 21
        }
      ]
    },
    {
      "cell_type": "code",
      "source": [
        "predictions = svc_model.predict(X_test)\n",
        "from sklearn.metrics import classification_report,confusion_matrix\n",
        "print(confusion_matrix(y_test,predictions))"
      ],
      "metadata": {
        "colab": {
          "base_uri": "https://localhost:8080/"
        },
        "id": "l8NUZ2Zk8rlA",
        "outputId": "8322d01f-796d-42de-f721-736c1bcbd5f9"
      },
      "execution_count": null,
      "outputs": [
        {
          "output_type": "stream",
          "name": "stdout",
          "text": [
            "[[74  4]\n",
            " [ 5 25]]\n"
          ]
        }
      ]
    },
    {
      "cell_type": "code",
      "source": [
        "print(classification_report(y_test,predictions))"
      ],
      "metadata": {
        "colab": {
          "base_uri": "https://localhost:8080/"
        },
        "id": "ytRl2kwR8uOw",
        "outputId": "0b4e2ce5-2d64-49fa-879e-f821b1f40c50"
      },
      "execution_count": null,
      "outputs": [
        {
          "output_type": "stream",
          "name": "stdout",
          "text": [
            "              precision    recall  f1-score   support\n",
            "\n",
            "           0       0.94      0.95      0.94        78\n",
            "           1       0.86      0.83      0.85        30\n",
            "\n",
            "    accuracy                           0.92       108\n",
            "   macro avg       0.90      0.89      0.90       108\n",
            "weighted avg       0.92      0.92      0.92       108\n",
            "\n"
          ]
        }
      ]
    },
    {
      "cell_type": "markdown",
      "source": [
        "### Hyperparameter Tuning"
      ],
      "metadata": {
        "id": "N5xnaJwg84bO"
      }
    },
    {
      "cell_type": "code",
      "source": [
        "from sklearn.model_selection import GridSearchCV\n",
        "param_grid = {'C': [0.0001, 0.001, 0.01, 0.1, 1, 10, 100, 1000], 'gamma': [0.0001, 0.001, 0.01, 0.1, 1, 10, 100, 1000]} \n",
        "grid = GridSearchCV(SVC(),param_grid,scoring='accuracy')\n",
        "grid.fit(X_train,y_train)\n"
      ],
      "metadata": {
        "colab": {
          "base_uri": "https://localhost:8080/",
          "height": 117
        },
        "id": "ZtypQvUe8_cY",
        "outputId": "9dc2dfdc-f0ee-4c4f-bbb9-e8ed702af0f3"
      },
      "execution_count": null,
      "outputs": [
        {
          "output_type": "execute_result",
          "data": {
            "text/plain": [
              "GridSearchCV(estimator=SVC(),\n",
              "             param_grid={'C': [0.0001, 0.001, 0.01, 0.1, 1, 10, 100, 1000],\n",
              "                         'gamma': [0.0001, 0.001, 0.01, 0.1, 1, 10, 100, 1000]},\n",
              "             scoring='accuracy')"
            ],
            "text/html": [
              "<style>#sk-container-id-2 {color: black;background-color: white;}#sk-container-id-2 pre{padding: 0;}#sk-container-id-2 div.sk-toggleable {background-color: white;}#sk-container-id-2 label.sk-toggleable__label {cursor: pointer;display: block;width: 100%;margin-bottom: 0;padding: 0.3em;box-sizing: border-box;text-align: center;}#sk-container-id-2 label.sk-toggleable__label-arrow:before {content: \"▸\";float: left;margin-right: 0.25em;color: #696969;}#sk-container-id-2 label.sk-toggleable__label-arrow:hover:before {color: black;}#sk-container-id-2 div.sk-estimator:hover label.sk-toggleable__label-arrow:before {color: black;}#sk-container-id-2 div.sk-toggleable__content {max-height: 0;max-width: 0;overflow: hidden;text-align: left;background-color: #f0f8ff;}#sk-container-id-2 div.sk-toggleable__content pre {margin: 0.2em;color: black;border-radius: 0.25em;background-color: #f0f8ff;}#sk-container-id-2 input.sk-toggleable__control:checked~div.sk-toggleable__content {max-height: 200px;max-width: 100%;overflow: auto;}#sk-container-id-2 input.sk-toggleable__control:checked~label.sk-toggleable__label-arrow:before {content: \"▾\";}#sk-container-id-2 div.sk-estimator input.sk-toggleable__control:checked~label.sk-toggleable__label {background-color: #d4ebff;}#sk-container-id-2 div.sk-label input.sk-toggleable__control:checked~label.sk-toggleable__label {background-color: #d4ebff;}#sk-container-id-2 input.sk-hidden--visually {border: 0;clip: rect(1px 1px 1px 1px);clip: rect(1px, 1px, 1px, 1px);height: 1px;margin: -1px;overflow: hidden;padding: 0;position: absolute;width: 1px;}#sk-container-id-2 div.sk-estimator {font-family: monospace;background-color: #f0f8ff;border: 1px dotted black;border-radius: 0.25em;box-sizing: border-box;margin-bottom: 0.5em;}#sk-container-id-2 div.sk-estimator:hover {background-color: #d4ebff;}#sk-container-id-2 div.sk-parallel-item::after {content: \"\";width: 100%;border-bottom: 1px solid gray;flex-grow: 1;}#sk-container-id-2 div.sk-label:hover label.sk-toggleable__label {background-color: #d4ebff;}#sk-container-id-2 div.sk-serial::before {content: \"\";position: absolute;border-left: 1px solid gray;box-sizing: border-box;top: 0;bottom: 0;left: 50%;z-index: 0;}#sk-container-id-2 div.sk-serial {display: flex;flex-direction: column;align-items: center;background-color: white;padding-right: 0.2em;padding-left: 0.2em;position: relative;}#sk-container-id-2 div.sk-item {position: relative;z-index: 1;}#sk-container-id-2 div.sk-parallel {display: flex;align-items: stretch;justify-content: center;background-color: white;position: relative;}#sk-container-id-2 div.sk-item::before, #sk-container-id-2 div.sk-parallel-item::before {content: \"\";position: absolute;border-left: 1px solid gray;box-sizing: border-box;top: 0;bottom: 0;left: 50%;z-index: -1;}#sk-container-id-2 div.sk-parallel-item {display: flex;flex-direction: column;z-index: 1;position: relative;background-color: white;}#sk-container-id-2 div.sk-parallel-item:first-child::after {align-self: flex-end;width: 50%;}#sk-container-id-2 div.sk-parallel-item:last-child::after {align-self: flex-start;width: 50%;}#sk-container-id-2 div.sk-parallel-item:only-child::after {width: 0;}#sk-container-id-2 div.sk-dashed-wrapped {border: 1px dashed gray;margin: 0 0.4em 0.5em 0.4em;box-sizing: border-box;padding-bottom: 0.4em;background-color: white;}#sk-container-id-2 div.sk-label label {font-family: monospace;font-weight: bold;display: inline-block;line-height: 1.2em;}#sk-container-id-2 div.sk-label-container {text-align: center;}#sk-container-id-2 div.sk-container {/* jupyter's `normalize.less` sets `[hidden] { display: none; }` but bootstrap.min.css set `[hidden] { display: none !important; }` so we also need the `!important` here to be able to override the default hidden behavior on the sphinx rendered scikit-learn.org. See: https://github.com/scikit-learn/scikit-learn/issues/21755 */display: inline-block !important;position: relative;}#sk-container-id-2 div.sk-text-repr-fallback {display: none;}</style><div id=\"sk-container-id-2\" class=\"sk-top-container\"><div class=\"sk-text-repr-fallback\"><pre>GridSearchCV(estimator=SVC(),\n",
              "             param_grid={&#x27;C&#x27;: [0.0001, 0.001, 0.01, 0.1, 1, 10, 100, 1000],\n",
              "                         &#x27;gamma&#x27;: [0.0001, 0.001, 0.01, 0.1, 1, 10, 100, 1000]},\n",
              "             scoring=&#x27;accuracy&#x27;)</pre><b>In a Jupyter environment, please rerun this cell to show the HTML representation or trust the notebook. <br />On GitHub, the HTML representation is unable to render, please try loading this page with nbviewer.org.</b></div><div class=\"sk-container\" hidden><div class=\"sk-item sk-dashed-wrapped\"><div class=\"sk-label-container\"><div class=\"sk-label sk-toggleable\"><input class=\"sk-toggleable__control sk-hidden--visually\" id=\"sk-estimator-id-2\" type=\"checkbox\" ><label for=\"sk-estimator-id-2\" class=\"sk-toggleable__label sk-toggleable__label-arrow\">GridSearchCV</label><div class=\"sk-toggleable__content\"><pre>GridSearchCV(estimator=SVC(),\n",
              "             param_grid={&#x27;C&#x27;: [0.0001, 0.001, 0.01, 0.1, 1, 10, 100, 1000],\n",
              "                         &#x27;gamma&#x27;: [0.0001, 0.001, 0.01, 0.1, 1, 10, 100, 1000]},\n",
              "             scoring=&#x27;accuracy&#x27;)</pre></div></div></div><div class=\"sk-parallel\"><div class=\"sk-parallel-item\"><div class=\"sk-item\"><div class=\"sk-label-container\"><div class=\"sk-label sk-toggleable\"><input class=\"sk-toggleable__control sk-hidden--visually\" id=\"sk-estimator-id-3\" type=\"checkbox\" ><label for=\"sk-estimator-id-3\" class=\"sk-toggleable__label sk-toggleable__label-arrow\">estimator: SVC</label><div class=\"sk-toggleable__content\"><pre>SVC()</pre></div></div></div><div class=\"sk-serial\"><div class=\"sk-item\"><div class=\"sk-estimator sk-toggleable\"><input class=\"sk-toggleable__control sk-hidden--visually\" id=\"sk-estimator-id-4\" type=\"checkbox\" ><label for=\"sk-estimator-id-4\" class=\"sk-toggleable__label sk-toggleable__label-arrow\">SVC</label><div class=\"sk-toggleable__content\"><pre>SVC()</pre></div></div></div></div></div></div></div></div></div></div>"
            ]
          },
          "metadata": {},
          "execution_count": 24
        }
      ]
    },
    {
      "cell_type": "code",
      "source": [
        "\n",
        "best_model = grid.best_estimator_\n",
        "grid.best_params_"
      ],
      "metadata": {
        "colab": {
          "base_uri": "https://localhost:8080/"
        },
        "id": "3eVUtj_f9CF4",
        "outputId": "14950b57-556c-4f6f-e765-216a7312f315"
      },
      "execution_count": null,
      "outputs": [
        {
          "output_type": "execute_result",
          "data": {
            "text/plain": [
              "{'C': 10, 'gamma': 0.001}"
            ]
          },
          "metadata": {},
          "execution_count": 25
        }
      ]
    },
    {
      "cell_type": "code",
      "source": [
        "grid_predictions = best_model.predict(X_test)"
      ],
      "metadata": {
        "id": "sBeeQv6r9EDg"
      },
      "execution_count": null,
      "outputs": []
    },
    {
      "cell_type": "markdown",
      "source": [
        "### Pickling our model for use in our application"
      ],
      "metadata": {
        "id": "yaDa7v4HX7Fp"
      }
    },
    {
      "cell_type": "code",
      "source": [
        "import joblib\n",
        "joblib.dump(best_model, 'model.pkl')\n",
        "joblib.dump(sc, 'sc.pkl')"
      ],
      "metadata": {
        "colab": {
          "base_uri": "https://localhost:8080/"
        },
        "id": "QohVWN__rWoZ",
        "outputId": "6fa073ec-4050-4eaa-eb12-1a30c8238061"
      },
      "execution_count": null,
      "outputs": [
        {
          "output_type": "execute_result",
          "data": {
            "text/plain": [
              "['sc.pkl']"
            ]
          },
          "metadata": {},
          "execution_count": 27
        }
      ]
    },
    {
      "cell_type": "markdown",
      "source": [
        "## Results"
      ],
      "metadata": {
        "id": "csg5k5qrwkEG"
      }
    },
    {
      "cell_type": "markdown",
      "source": [
        "Looking at the confusion matrix, we can see that the model yielded five false positives and three false negatives."
      ],
      "metadata": {
        "id": "iQJd6QO0w_zb"
      }
    },
    {
      "cell_type": "code",
      "source": [
        "import matplotlib.pyplot as plt\n",
        "from numpy import arange\n",
        "import itertools\n",
        "\n",
        "confusionmatrix = confusion_matrix(y_test,grid_predictions)\n",
        "\n",
        "\n",
        "classes = ['PCOS=1','PCOS=0']\n",
        "\n",
        "plt.imshow(confusionmatrix, interpolation='nearest', cmap=plt.cm.Blues)\n",
        "plt.title(\"Confusion matrix\")\n",
        "plt.colorbar()\n",
        "tick_marks = arange(len(classes))\n",
        "plt.xticks(tick_marks, classes, rotation=45)\n",
        "plt.yticks(tick_marks, classes)\n",
        "\n",
        "fmt = 'd'\n",
        "\n",
        "thresh = confusionmatrix.max() / 2.\n",
        "for i, j in itertools.product(range(confusionmatrix.shape[0]), range(confusionmatrix.shape[1])):\n",
        "    plt.text(j, i, format(confusionmatrix[i, j], fmt),\n",
        "              horizontalalignment=\"center\",\n",
        "              color=\"white\" if confusionmatrix[i, j] > thresh else \"black\")\n",
        "\n",
        "plt.tight_layout()\n",
        "plt.ylabel('True label')\n",
        "plt.xlabel('Predicted label')\n",
        "print(confusionmatrix)"
      ],
      "metadata": {
        "id": "bErcNKL9vhD5",
        "colab": {
          "base_uri": "https://localhost:8080/",
          "height": 542
        },
        "outputId": "2e04853f-4b00-46ff-c18b-1d06ae8f0f0b"
      },
      "execution_count": null,
      "outputs": [
        {
          "output_type": "stream",
          "name": "stdout",
          "text": [
            "[[75  3]\n",
            " [ 5 25]]\n"
          ]
        },
        {
          "output_type": "display_data",
          "data": {
            "text/plain": [
              "<Figure size 640x480 with 2 Axes>"
            ],
            "image/png": "[encoded data removed]"
          },
          "metadata": {}
        }
      ]
    },
    {
      "cell_type": "markdown",
      "source": [
        "We can also look at the classification report to look at the precision, recall, and f1-score. It shows a 94% precision for negatives and 89% precision for positives. It has a 96% recall for negatives and 83% recall for positives. The model has an f1-score of 95% for negatives and an f1-score of 86% for positives. Finally, the overall accuracy of the model is 93%."
      ],
      "metadata": {
        "id": "IQuLvNpm2TlL"
      }
    },
    {
      "cell_type": "code",
      "source": [
        "print(classification_report(y_test,grid_predictions))"
      ],
      "metadata": {
        "colab": {
          "base_uri": "https://localhost:8080/"
        },
        "id": "KJGpdHdx9L-g",
        "outputId": "f4a28243-099b-46ad-d9e7-36d1dbb6c7b2"
      },
      "execution_count": null,
      "outputs": [
        {
          "output_type": "stream",
          "name": "stdout",
          "text": [
            "              precision    recall  f1-score   support\n",
            "\n",
            "           0       0.94      0.96      0.95        78\n",
            "           1       0.89      0.83      0.86        30\n",
            "\n",
            "    accuracy                           0.93       108\n",
            "   macro avg       0.92      0.90      0.91       108\n",
            "weighted avg       0.93      0.93      0.93       108\n",
            "\n"
          ]
        }
      ]
    },
    {
      "cell_type": "markdown",
      "source": [
        "We can compare our model to an existing model that used logistic regression on the same dataset (https://www.kaggle.com/code/ayamoheddine/pcos-classification-using-logistic-regression). The logistic regression model yielded the following results:"
      ],
      "metadata": {
        "id": "zbyIBsKFzGTk"
      }
    },
    {
      "cell_type": "markdown",
      "source": [
        "                precision    recall  f1-score   support\n",
        "\n",
        "           0       0.89      0.94      0.92       107\n",
        "           1       0.88      0.78      0.83        55\n",
        "\n",
        "    accuracy                           0.89       162\n",
        "    macro avg      0.89      0.86      0.87       162\n",
        "    weighted avg   0.89      0.89      0.89       162"
      ],
      "metadata": {
        "id": "AIpmaPOa0hRD"
      }
    },
    {
      "cell_type": "markdown",
      "source": [
        "Comparing the results, we see a 5% improvement in the precision for detecting negatives and a 1% improvement in the precision for detecting positives. There is also a 2% improvement in the recall for negatives and a 5% improvement in the recall for positives. \n",
        "These result in a 3% improvement in the f1 score for negatives and a 3% improvement in the f1 score for positives. In terms of the overall accuracy, we can see a 4% improvement from 89% to 93%."
      ],
      "metadata": {
        "id": "k9U9Z05G1QoA"
      }
    }
  ]
}
